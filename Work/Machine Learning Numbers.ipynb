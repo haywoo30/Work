{
 "cells": [
  {
   "cell_type": "markdown",
   "metadata": {},
   "source": [
    "----\n",
    "# 3. Digits Data Set\n"
   ]
  },
  {
   "cell_type": "code",
   "execution_count": 1,
   "metadata": {},
   "outputs": [],
   "source": [
    "%matplotlib inline\n",
    "import matplotlib.pylab as plt\n",
    "\n",
    "import numpy as np\n",
    "from sklearn.datasets import fetch_lfw_people, load_digits\n",
    "\n",
    "sk_data = load_digits();"
   ]
  },
  {
   "cell_type": "code",
   "execution_count": 2,
   "metadata": {},
   "outputs": [],
   "source": [
    "from ipywidgets import interact\n",
    "def browse_images(images, labels, categories):\n",
    "    n = len(images)\n",
    "    def view_image(i):\n",
    "        plt.imshow(images[i], cmap=plt.cm.gray_r, interpolation='nearest')\n",
    "        plt.title('%s' % categories[labels[i]])\n",
    "        plt.axis('off')\n",
    "        plt.show()\n",
    "    interact(view_image, i=(0,n-1))\n",
    "browse_images(sk_data.images, sk_data.target, sk_data.target_names)"
   ]
  },
  {
   "cell_type": "code",
   "execution_count": 4,
   "metadata": {},
   "outputs": [],
   "source": [
    "feature_vectors = sk_data.data\n",
    "class_labels = sk_data.target\n",
    "categories = sk_data.target_names\n",
    "\n",
    "n_samples, n_features = feature_vectors.shape\n",
    "N, h, w = sk_data.images.shape\n",
    "n_classes = len(categories)"
   ]
  },
  {
   "cell_type": "code",
   "execution_count": 9,
   "metadata": {},
   "outputs": [
    {
     "name": "stdout",
     "output_type": "stream",
     "text": [
      "1797\n",
      "1797\n",
      "1797\n"
     ]
    },
    {
     "data": {
      "text/plain": [
       "(1797, 8, 8)"
      ]
     },
     "execution_count": 9,
     "metadata": {},
     "output_type": "execute_result"
    }
   ],
   "source": [
    "#Number of samples, number of features, number of classes, and the shape of the image dimensions:\n",
    "print(len(feature_vectors))\n",
    "print(len(class_labels))\n",
    "print(n_samples)\n",
    "sk_data.images.shape"
   ]
  },
  {
   "cell_type": "markdown",
   "metadata": {},
   "source": [
    "1. **n_samples:** Total number of images in the digits dataset. \n",
    "2. **n_features:** Total number of features in the digits dataset\n",
    "3. **n_classes:** Total number of classes in the digits dataset\n",
    "4. **N:** number\n",
    "5. **h:** height\n",
    "6. **w:** width\n"
   ]
  },
  {
   "cell_type": "code",
   "execution_count": 11,
   "metadata": {},
   "outputs": [
    {
     "data": {
      "image/png": "[encoded data removed]",
      "text/plain": [
       "<Figure size 1008x216 with 1 Axes>"
      ]
     },
     "metadata": {},
     "output_type": "display_data"
    }
   ],
   "source": [
    "plt.figure(figsize=(14, 3))\n",
    "\n",
    "y_unique = np.unique(class_labels)\n",
    "counts = [(class_labels == i).sum() for i in y_unique]\n",
    "\n",
    "plt.xticks(y_unique,  categories[y_unique])\n",
    "locs, labels = plt.xticks()\n",
    "plt.setp(labels, rotation=45, size=20)\n",
    "_ = plt.bar(y_unique, counts)"
   ]
  },
  {
   "cell_type": "markdown",
   "metadata": {},
   "source": [
    "Split the input data into separate training and testing sets.  Make sure you keep the feature vectors and classes together. "
   ]
  },
  {
   "cell_type": "code",
   "execution_count": 27,
   "metadata": {},
   "outputs": [],
   "source": [
    "# Split the input data into separate training and testing sets\n",
    "import pandas as pd\n",
    "\n",
    "train_vectors = feature_vectors[1:int(len(feature_vectors)*.75),:]\n",
    "test_vectors = feature_vectors[int(len(feature_vectors)*.75)+1:len(feature_vectors),:]\n",
    "train_labels = class_labels[1:int(len(class_labels)*.75)]\n",
    "test_labels = class_labels[int(len(class_labels)*.75)+1:len(feature_vectors)]"
   ]
  },
  {
   "cell_type": "code",
   "execution_count": 1,
   "metadata": {},
   "outputs": [
    {
     "ename": "NameError",
     "evalue": "name 'train_vectors' is not defined",
     "output_type": "error",
     "traceback": [
      "\u001b[1;31m---------------------------------------------------------------------------\u001b[0m",
      "\u001b[1;31mNameError\u001b[0m                                 Traceback (most recent call last)",
      "\u001b[1;32m<ipython-input-1-1342beae0a10>\u001b[0m in \u001b[0;36m<module>\u001b[1;34m()\u001b[0m\n\u001b[0;32m      9\u001b[0m \u001b[1;33m\u001b[0m\u001b[0m\n\u001b[0;32m     10\u001b[0m \u001b[1;31m#make some temporary variables so you can change this easily\u001b[0m\u001b[1;33m\u001b[0m\u001b[1;33m\u001b[0m\u001b[0m\n\u001b[1;32m---> 11\u001b[1;33m \u001b[0mtmp_vectors\u001b[0m \u001b[1;33m=\u001b[0m \u001b[0mtrain_vectors\u001b[0m\u001b[1;33m\u001b[0m\u001b[0m\n\u001b[0m\u001b[0;32m     12\u001b[0m \u001b[0mtmp_labels\u001b[0m \u001b[1;33m=\u001b[0m \u001b[0mtrain_labels\u001b[0m\u001b[1;33m\u001b[0m\u001b[0m\n\u001b[0;32m     13\u001b[0m \u001b[1;33m\u001b[0m\u001b[0m\n",
      "\u001b[1;31mNameError\u001b[0m: name 'train_vectors' is not defined"
     ]
    }
   ],
   "source": [
    "# Train SVM classification model\n",
    "from sklearn.model_selection import GridSearchCV\n",
    "from sklearn.metrics import classification_report\n",
    "from sklearn.metrics import confusion_matrix\n",
    "from sklearn.svm import SVC\n",
    "import time\n",
    "start = time.time()\n",
    "\n",
    "#Temporary variables\n",
    "tmp_vectors = train_vectors\n",
    "tmp_labels = train_labels\n",
    "\n",
    "print(\"Fitting the classifier to the training set\")\n",
    "param_grid = {'C': [1e3, 5e3, 1e4, 5e4, 1e5],\n",
    "              'gamma': [0.0001, 0.0005, 0.001, 0.005, 0.01, 0.1], }\n",
    "clf = GridSearchCV(SVC(kernel='rbf', class_weight='balanced'), param_grid)\n",
    "clf = clf.fit(tmp_vectors, tmp_labels)\n",
    "print(\"Best estimator found by grid search:\")\n",
    "print(clf.best_estimator_)\n",
    "\n",
    "end = time.time()\n",
    "print(\"Runtime\",end - start)"
   ]
  },
  {
   "cell_type": "markdown",
   "metadata": {},
   "source": [
    "----\n",
    "## Results on Testing Data"
   ]
  },
  {
   "cell_type": "code",
   "execution_count": 30,
   "metadata": {},
   "outputs": [
    {
     "name": "stdout",
     "output_type": "stream",
     "text": [
      "Predicting names on the test set\n",
      "             precision    recall  f1-score   support\n",
      "\n",
      "          0       0.98      0.98      0.98        43\n",
      "          1       0.98      1.00      0.99        46\n",
      "          2       1.00      1.00      1.00        43\n",
      "          3       1.00      0.89      0.94        46\n",
      "          4       0.98      0.94      0.96        48\n",
      "          5       0.94      0.98      0.96        45\n",
      "          6       0.98      1.00      0.99        47\n",
      "          7       0.96      1.00      0.98        45\n",
      "          8       0.91      0.95      0.93        41\n",
      "          9       0.93      0.91      0.92        45\n",
      "\n",
      "avg / total       0.97      0.96      0.96       449\n",
      "\n",
      "[[42  0  0  0  1  0  0  0  0  0]\n",
      " [ 0 46  0  0  0  0  0  0  0  0]\n",
      " [ 0  0 43  0  0  0  0  0  0  0]\n",
      " [ 0  0  0 41  0  2  0  0  3  0]\n",
      " [ 0  0  0  0 45  0  0  0  0  3]\n",
      " [ 0  0  0  0  0 44  1  0  0  0]\n",
      " [ 0  0  0  0  0  0 47  0  0  0]\n",
      " [ 0  0  0  0  0  0  0 45  0  0]\n",
      " [ 0  1  0  0  0  0  0  1 39  0]\n",
      " [ 1  0  0  0  0  1  0  1  1 41]]\n"
     ]
    }
   ],
   "source": [
    "###############################################################################\n",
    "# Quantitative evaluation of the model quality on the test set\n",
    "\n",
    "#make some temporary variables so you can change this easily\n",
    "predict_vectors = test_vectors\n",
    "true_lables = test_labels\n",
    "\n",
    "print(\"Predicting names on the test set\")\n",
    "pred_labels = clf.predict(predict_vectors)\n",
    "\n",
    "print(classification_report(true_lables, pred_labels))\n",
    "print(confusion_matrix(true_lables, pred_labels, labels=range(n_classes)))\n"
   ]
  },
  {
   "cell_type": "code",
   "execution_count": 31,
   "metadata": {},
   "outputs": [
    {
     "data": {
      "image/png": "[encoded data removed]",
      "text/plain": [
       "<Figure size 648x864 with 25 Axes>"
      ]
     },
     "metadata": {},
     "output_type": "display_data"
    }
   ],
   "source": [
    "def plot_gallery(images, true_titles, pred_titles, h, w, n_row=5, n_col=5):\n",
    "    \"\"\"Helper function to plot a gallery of portraits\"\"\"\n",
    "    plt.figure(figsize=(1.8 * n_col, 2.4 * n_row))\n",
    "    plt.subplots_adjust(bottom=0, left=.01, right=.99, top=.90, hspace=.35)\n",
    "    for i in range(n_row * n_col):\n",
    "        plt.subplot(n_row, n_col, i + 1)\n",
    "        plt.imshow(images[i].reshape((h, w)), cmap=plt.cm.gray_r)\n",
    "        plt.title('Pred='+str(categories[pred_titles[i]]), size=9)\n",
    "        plt.xlabel('Actual='+str(categories[true_titles[i]]), size=9)\n",
    "        plt.xticks(())\n",
    "        plt.yticks(())\n",
    "\n",
    "plot_gallery(test_vectors, test_labels, pred_labels, h,w)"
   ]
  },
  {
   "cell_type": "markdown",
   "metadata": {},
   "source": [
    "The classifier is doing great with a 96% precision."
   ]
  },
  {
   "cell_type": "code",
   "execution_count": null,
   "metadata": {},
   "outputs": [],
   "source": []
  }
 ],
 "metadata": {
  "kernelspec": {
   "display_name": "Python 3",
   "language": "python",
   "name": "python3"
  },
  "language_info": {
   "codemirror_mode": {
    "name": "ipython",
    "version": 3
   },
   "file_extension": ".py",
   "mimetype": "text/x-python",
   "name": "python",
   "nbconvert_exporter": "python",
   "pygments_lexer": "ipython3",
   "version": "3.6.5"
  }
 },
 "nbformat": 4,
 "nbformat_minor": 4
}
