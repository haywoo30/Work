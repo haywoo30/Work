{
 "cells": [
  {
   "cell_type": "code",
   "execution_count": null,
   "metadata": {
    "scrolled": true
   },
   "outputs": [],
   "source": [
    "#ant_function\n",
    "import matplotlib.pyplot as plt\n",
    "import random \n",
    "import numpy as np\n",
    "\n",
    "from IPython.display import display, clear_output\n",
    "import time\n",
    "\n",
    "num_ants = 100\n",
    "x_dim = 70\n",
    "y_dim = 30\n",
    "smell = np.zeros((x_dim,y_dim))\n",
    "food = np.zeros((x_dim,y_dim))\n",
    "\n",
    "#place food\n",
    "food[45:50, 25:30] = 10\n",
    "food[45:50, 25:30] = 10\n",
    "food[65:70, 0:5] = 10\n",
    "\n",
    "x_loc = np.random.randint(0,x_dim,size=(num_ants,1))\n",
    "y_loc = np.random.randint(0,y_dim,size=(num_ants,1))\n",
    "ant_loc = np.concatenate((x_loc,y_loc), axis=1)\n",
    "\n",
    "has_food = np.zeros((num_ants,1))\n",
    "\n",
    "directions = ['up', 'left', 'down', 'right']\n",
    "\n",
    "fig, ax = plt.subplots(figsize=(10,5))\n",
    "\n",
    "#Main simulation loop\n",
    "for i in range(0,100):\n",
    "    \n",
    "    #Loop over ants\n",
    "    for a in range(0,num_ants):\n",
    "        x = ant_loc[a,0]\n",
    "        y = ant_loc[a,1]\n",
    "        \n",
    "        if(x == 0 and y == 0):\n",
    "            has_food[a] = 0\n",
    "        \n",
    "        if(has_food[a] == 1):\n",
    "            pick = np.zeros(x+y)\n",
    "            pick[0:x] = 1\n",
    "            if(np.random.choice(pick)==1):\n",
    "                x -= 1\n",
    "            else:\n",
    "                y -= 1\n",
    "                \n",
    "            if(x < 0):\n",
    "                x = 0\n",
    "            if(y < 0):\n",
    "                y = 0\n",
    "            \n",
    "            smell[x,y] = smell[x,y] + 100\n",
    "\n",
    "        else:\n",
    "\n",
    "            #First check to see if there is food up and to the right.\n",
    "            g = [] #follow gradient\n",
    "            m  = [] \n",
    "\n",
    "            if(x + 1 < x_dim):\n",
    "                if(smell[x+1, y] > 0):\n",
    "                    m.append(smell[x+1,y])\n",
    "                    g.append('right')\n",
    "            if(y + 1 < y_dim):\n",
    "                if(smell[x, y+1] > 0):\n",
    "                    m.append(smell[x, y+1])\n",
    "                    g.append('up')\n",
    "            if(g != []):\n",
    "                grad = g[m.index(max(m))]\n",
    "                #print(\"Following smell\", grad)\n",
    "            else:\n",
    "                #else just pick a random direction.\n",
    "                grad = random.choice(directions)\n",
    "                #print(\"Choosing \",grad)\n",
    "\n",
    "            # move the ant\n",
    "            if(grad == 'up'):\n",
    "                y = y + 1\n",
    "            elif(grad == 'right'):\n",
    "                x = x + 1\n",
    "            elif(grad == 'down'):\n",
    "                y = y - 1\n",
    "            elif(grad == 'left'):\n",
    "                x = x - 1\n",
    "            else:\n",
    "                print(grad)\n",
    "                print(\"ERROR!!!!!!!!!!!!\")\n",
    "\n",
    "            #make sure we don't go off the gird. \n",
    "            if(x < 0):\n",
    "                x = 0\n",
    "            if(y < 0):\n",
    "                y = 0\n",
    "            if(x > x_dim-1):\n",
    "                x = x_dim-1\n",
    "            if(y > y_dim-1):\n",
    "                y = y_dim-1\n",
    "\n",
    "            if food[x, y] > 0:\n",
    "                food[x,y] -= 1\n",
    "                has_food[a] = 1\n",
    "        ant_loc[a,0] = x\n",
    "        ant_loc[a,1] = y\n",
    "        \n",
    "    smell = smell - 1\n",
    "    smell[smell < 0] = 0\n",
    "\n",
    "    #plot world\n",
    "    plt.imshow(food.T, origin='lower', aspect='equal', cmap=\"magma\")\n",
    "    for a in range(0,num_ants):\n",
    "        color = 'r'\n",
    "        if (has_food[a] == 1):\n",
    "            color = 'g'\n",
    "        plt.scatter(ant_loc[a,0], ant_loc[a,1], color=color)\n",
    "\n",
    "    # Animaiton part (doesn't change)\n",
    "    clear_output(wait=True) # Clear output for dynamic display\n",
    "    display(fig)            # Reset display\n",
    "    fig.clear()             # Prevent overlapping and layered plots\n",
    "    time.sleep(0.0001)      # Sleep for a fraction of a second to allow animation to catch up"
   ]
  },
  {
   "cell_type": "code",
   "execution_count": 2,
   "metadata": {
    "scrolled": false
   },
   "outputs": [
    {
     "data": {
      "image/png": "[encoded data removed]",
      "text/plain": [
       "<Figure size 720x360 with 1 Axes>"
      ]
     },
     "metadata": {},
     "output_type": "display_data"
    },
    {
     "data": {
      "text/plain": [
       "<Figure size 720x360 with 0 Axes>"
      ]
     },
     "metadata": {},
     "output_type": "display_data"
    }
   ],
   "source": [
    "%matplotlib inline\n",
    "import ant_function\n",
    "ant_function.run()"
   ]
  }
 ],
 "metadata": {
  "anaconda-cloud": {},
  "kernelspec": {
   "display_name": "Python 3",
   "language": "python",
   "name": "python3"
  },
  "language_info": {
   "codemirror_mode": {
    "name": "ipython",
    "version": 3
   },
   "file_extension": ".py",
   "mimetype": "text/x-python",
   "name": "python",
   "nbconvert_exporter": "python",
   "pygments_lexer": "ipython3",
   "version": "3.6.5"
  }
 },
 "nbformat": 4,
 "nbformat_minor": 4
}
